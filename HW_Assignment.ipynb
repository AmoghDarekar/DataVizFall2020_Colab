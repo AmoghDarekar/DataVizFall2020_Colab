{
  "nbformat": 4,
  "nbformat_minor": 0,
  "metadata": {
    "colab": {
      "name": "HW_Assignment.ipynb",
      "provenance": [],
      "collapsed_sections": [],
      "authorship_tag": "ABX9TyM0lz5kUbJnHvesM8av1wVB",
      "include_colab_link": true
    },
    "kernelspec": {
      "name": "python3",
      "display_name": "Python 3"
    }
  },
  "cells": [
    {
      "cell_type": "markdown",
      "metadata": {
        "id": "view-in-github",
        "colab_type": "text"
      },
      "source": [
        "<a href=\"https://colab.research.google.com/github/AmoghDarekar/DataVizFall2020_Colab/blob/master/HW_Assignment.ipynb\" target=\"_parent\"><img src=\"https://colab.research.google.com/assets/colab-badge.svg\" alt=\"Open In Colab\"/></a>"
      ]
    },
    {
      "cell_type": "code",
      "metadata": {
        "id": "Y5YdTGLXMMgd",
        "colab_type": "code",
        "colab": {}
      },
      "source": [
        "import pandas as pd\n",
        "import matplotlib.pyplot as plt"
      ],
      "execution_count": 7,
      "outputs": []
    },
    {
      "cell_type": "code",
      "metadata": {
        "id": "vvJrdg7qMb3n",
        "colab_type": "code",
        "colab": {}
      },
      "source": [
        "db = \"https://raw.githubusercontent.com/nytimes/covid-19-data/master/us-counties.csv\""
      ],
      "execution_count": 8,
      "outputs": []
    },
    {
      "cell_type": "code",
      "metadata": {
        "id": "CqSU5CpCMfv-",
        "colab_type": "code",
        "colab": {}
      },
      "source": [
        "covid1 = pd.read_csv(db)"
      ],
      "execution_count": 9,
      "outputs": []
    },
    {
      "cell_type": "code",
      "metadata": {
        "id": "Pne_Y_cRNeih",
        "colab_type": "code",
        "colab": {
          "base_uri": "https://localhost:8080/",
          "height": 343
        },
        "outputId": "d9cb6df0-05ec-4028-8cea-149cd3a1ad81"
      },
      "source": [
        "covid1.head(10)"
      ],
      "execution_count": 10,
      "outputs": [
        {
          "output_type": "execute_result",
          "data": {
            "text/html": [
              "<div>\n",
              "<style scoped>\n",
              "    .dataframe tbody tr th:only-of-type {\n",
              "        vertical-align: middle;\n",
              "    }\n",
              "\n",
              "    .dataframe tbody tr th {\n",
              "        vertical-align: top;\n",
              "    }\n",
              "\n",
              "    .dataframe thead th {\n",
              "        text-align: right;\n",
              "    }\n",
              "</style>\n",
              "<table border=\"1\" class=\"dataframe\">\n",
              "  <thead>\n",
              "    <tr style=\"text-align: right;\">\n",
              "      <th></th>\n",
              "      <th>date</th>\n",
              "      <th>county</th>\n",
              "      <th>state</th>\n",
              "      <th>fips</th>\n",
              "      <th>cases</th>\n",
              "      <th>deaths</th>\n",
              "    </tr>\n",
              "  </thead>\n",
              "  <tbody>\n",
              "    <tr>\n",
              "      <th>0</th>\n",
              "      <td>2020-01-21</td>\n",
              "      <td>Snohomish</td>\n",
              "      <td>Washington</td>\n",
              "      <td>53061.0</td>\n",
              "      <td>1</td>\n",
              "      <td>0</td>\n",
              "    </tr>\n",
              "    <tr>\n",
              "      <th>1</th>\n",
              "      <td>2020-01-22</td>\n",
              "      <td>Snohomish</td>\n",
              "      <td>Washington</td>\n",
              "      <td>53061.0</td>\n",
              "      <td>1</td>\n",
              "      <td>0</td>\n",
              "    </tr>\n",
              "    <tr>\n",
              "      <th>2</th>\n",
              "      <td>2020-01-23</td>\n",
              "      <td>Snohomish</td>\n",
              "      <td>Washington</td>\n",
              "      <td>53061.0</td>\n",
              "      <td>1</td>\n",
              "      <td>0</td>\n",
              "    </tr>\n",
              "    <tr>\n",
              "      <th>3</th>\n",
              "      <td>2020-01-24</td>\n",
              "      <td>Cook</td>\n",
              "      <td>Illinois</td>\n",
              "      <td>17031.0</td>\n",
              "      <td>1</td>\n",
              "      <td>0</td>\n",
              "    </tr>\n",
              "    <tr>\n",
              "      <th>4</th>\n",
              "      <td>2020-01-24</td>\n",
              "      <td>Snohomish</td>\n",
              "      <td>Washington</td>\n",
              "      <td>53061.0</td>\n",
              "      <td>1</td>\n",
              "      <td>0</td>\n",
              "    </tr>\n",
              "    <tr>\n",
              "      <th>5</th>\n",
              "      <td>2020-01-25</td>\n",
              "      <td>Orange</td>\n",
              "      <td>California</td>\n",
              "      <td>6059.0</td>\n",
              "      <td>1</td>\n",
              "      <td>0</td>\n",
              "    </tr>\n",
              "    <tr>\n",
              "      <th>6</th>\n",
              "      <td>2020-01-25</td>\n",
              "      <td>Cook</td>\n",
              "      <td>Illinois</td>\n",
              "      <td>17031.0</td>\n",
              "      <td>1</td>\n",
              "      <td>0</td>\n",
              "    </tr>\n",
              "    <tr>\n",
              "      <th>7</th>\n",
              "      <td>2020-01-25</td>\n",
              "      <td>Snohomish</td>\n",
              "      <td>Washington</td>\n",
              "      <td>53061.0</td>\n",
              "      <td>1</td>\n",
              "      <td>0</td>\n",
              "    </tr>\n",
              "    <tr>\n",
              "      <th>8</th>\n",
              "      <td>2020-01-26</td>\n",
              "      <td>Maricopa</td>\n",
              "      <td>Arizona</td>\n",
              "      <td>4013.0</td>\n",
              "      <td>1</td>\n",
              "      <td>0</td>\n",
              "    </tr>\n",
              "    <tr>\n",
              "      <th>9</th>\n",
              "      <td>2020-01-26</td>\n",
              "      <td>Los Angeles</td>\n",
              "      <td>California</td>\n",
              "      <td>6037.0</td>\n",
              "      <td>1</td>\n",
              "      <td>0</td>\n",
              "    </tr>\n",
              "  </tbody>\n",
              "</table>\n",
              "</div>"
            ],
            "text/plain": [
              "         date       county       state     fips  cases  deaths\n",
              "0  2020-01-21    Snohomish  Washington  53061.0      1       0\n",
              "1  2020-01-22    Snohomish  Washington  53061.0      1       0\n",
              "2  2020-01-23    Snohomish  Washington  53061.0      1       0\n",
              "3  2020-01-24         Cook    Illinois  17031.0      1       0\n",
              "4  2020-01-24    Snohomish  Washington  53061.0      1       0\n",
              "5  2020-01-25       Orange  California   6059.0      1       0\n",
              "6  2020-01-25         Cook    Illinois  17031.0      1       0\n",
              "7  2020-01-25    Snohomish  Washington  53061.0      1       0\n",
              "8  2020-01-26     Maricopa     Arizona   4013.0      1       0\n",
              "9  2020-01-26  Los Angeles  California   6037.0      1       0"
            ]
          },
          "metadata": {
            "tags": []
          },
          "execution_count": 10
        }
      ]
    },
    {
      "cell_type": "code",
      "metadata": {
        "id": "pQuz-7SrPcDv",
        "colab_type": "code",
        "colab": {
          "base_uri": "https://localhost:8080/",
          "height": 134
        },
        "outputId": "16392093-4802-487f-a692-4dcd9771753b"
      },
      "source": [
        "covid1.nunique()"
      ],
      "execution_count": 11,
      "outputs": [
        {
          "output_type": "execute_result",
          "data": {
            "text/plain": [
              "date        234\n",
              "county     1923\n",
              "state        55\n",
              "fips       3205\n",
              "cases     16027\n",
              "deaths     2381\n",
              "dtype: int64"
            ]
          },
          "metadata": {
            "tags": []
          },
          "execution_count": 11
        }
      ]
    },
    {
      "cell_type": "code",
      "metadata": {
        "id": "ClQdRszEWmpn",
        "colab_type": "code",
        "colab": {
          "base_uri": "https://localhost:8080/",
          "height": 218
        },
        "outputId": "5d44e777-5a1b-42b2-e3ad-35884e56b5b3"
      },
      "source": [
        "covid1['fips'].value_counts()"
      ],
      "execution_count": 12,
      "outputs": [
        {
          "output_type": "execute_result",
          "data": {
            "text/plain": [
              "53061.0    234\n",
              "17031.0    231\n",
              "6059.0     230\n",
              "4013.0     229\n",
              "6037.0     229\n",
              "          ... \n",
              "20199.0     18\n",
              "31103.0     17\n",
              "31115.0     15\n",
              "35011.0      1\n",
              "49009.0      1\n",
              "Name: fips, Length: 3205, dtype: int64"
            ]
          },
          "metadata": {
            "tags": []
          },
          "execution_count": 12
        }
      ]
    },
    {
      "cell_type": "code",
      "metadata": {
        "id": "Oyoi94wFbCxp",
        "colab_type": "code",
        "colab": {
          "base_uri": "https://localhost:8080/",
          "height": 50
        },
        "outputId": "22e57ba4-e626-4e0b-b86e-53f22936262b"
      },
      "source": [
        "B_f = covid1[(covid1['county']=='Bristol') & (covid1['state']=='Massachusetts')]['fips'].unique()[0].astype('int')\n",
        "S_f = covid1[(covid1['county']=='Suffolk') & (covid1['state']=='Massachusetts')]['fips'].unique()[0].astype('int')\n",
        "print(f'B_f = {B_f}')\n",
        "print(f'S_f = {S_f}')"
      ],
      "execution_count": 13,
      "outputs": [
        {
          "output_type": "stream",
          "text": [
            "B_f = 25005\n",
            "S_f = 25025\n"
          ],
          "name": "stdout"
        }
      ]
    },
    {
      "cell_type": "code",
      "metadata": {
        "id": "Gj-7HlzIOvyz",
        "colab_type": "code",
        "colab": {
          "base_uri": "https://localhost:8080/",
          "height": 235
        },
        "outputId": "1600eb02-3bcf-4664-9b9a-14c6937cd30a"
      },
      "source": [
        "covid1.info()"
      ],
      "execution_count": 14,
      "outputs": [
        {
          "output_type": "stream",
          "text": [
            "<class 'pandas.core.frame.DataFrame'>\n",
            "RangeIndex: 521534 entries, 0 to 521533\n",
            "Data columns (total 6 columns):\n",
            " #   Column  Non-Null Count   Dtype  \n",
            "---  ------  --------------   -----  \n",
            " 0   date    521534 non-null  object \n",
            " 1   county  521534 non-null  object \n",
            " 2   state   521534 non-null  object \n",
            " 3   fips    516515 non-null  float64\n",
            " 4   cases   521534 non-null  int64  \n",
            " 5   deaths  521534 non-null  int64  \n",
            "dtypes: float64(1), int64(2), object(3)\n",
            "memory usage: 23.9+ MB\n"
          ],
          "name": "stdout"
        }
      ]
    },
    {
      "cell_type": "code",
      "metadata": {
        "id": "rqLAyQkkO9bv",
        "colab_type": "code",
        "colab": {
          "base_uri": "https://localhost:8080/",
          "height": 284
        },
        "outputId": "2f2840e2-08d7-427c-c048-972a34360c36"
      },
      "source": [
        "covid1.describe()"
      ],
      "execution_count": 15,
      "outputs": [
        {
          "output_type": "execute_result",
          "data": {
            "text/html": [
              "<div>\n",
              "<style scoped>\n",
              "    .dataframe tbody tr th:only-of-type {\n",
              "        vertical-align: middle;\n",
              "    }\n",
              "\n",
              "    .dataframe tbody tr th {\n",
              "        vertical-align: top;\n",
              "    }\n",
              "\n",
              "    .dataframe thead th {\n",
              "        text-align: right;\n",
              "    }\n",
              "</style>\n",
              "<table border=\"1\" class=\"dataframe\">\n",
              "  <thead>\n",
              "    <tr style=\"text-align: right;\">\n",
              "      <th></th>\n",
              "      <th>fips</th>\n",
              "      <th>cases</th>\n",
              "      <th>deaths</th>\n",
              "    </tr>\n",
              "  </thead>\n",
              "  <tbody>\n",
              "    <tr>\n",
              "      <th>count</th>\n",
              "      <td>516515.000000</td>\n",
              "      <td>521534.000000</td>\n",
              "      <td>521534.000000</td>\n",
              "    </tr>\n",
              "    <tr>\n",
              "      <th>mean</th>\n",
              "      <td>31112.210654</td>\n",
              "      <td>905.890617</td>\n",
              "      <td>35.717286</td>\n",
              "    </tr>\n",
              "    <tr>\n",
              "      <th>std</th>\n",
              "      <td>16245.368054</td>\n",
              "      <td>5865.388093</td>\n",
              "      <td>400.523564</td>\n",
              "    </tr>\n",
              "    <tr>\n",
              "      <th>min</th>\n",
              "      <td>1001.000000</td>\n",
              "      <td>0.000000</td>\n",
              "      <td>0.000000</td>\n",
              "    </tr>\n",
              "    <tr>\n",
              "      <th>25%</th>\n",
              "      <td>18159.000000</td>\n",
              "      <td>13.000000</td>\n",
              "      <td>0.000000</td>\n",
              "    </tr>\n",
              "    <tr>\n",
              "      <th>50%</th>\n",
              "      <td>29181.000000</td>\n",
              "      <td>69.000000</td>\n",
              "      <td>1.000000</td>\n",
              "    </tr>\n",
              "    <tr>\n",
              "      <th>75%</th>\n",
              "      <td>46085.000000</td>\n",
              "      <td>334.000000</td>\n",
              "      <td>8.000000</td>\n",
              "    </tr>\n",
              "    <tr>\n",
              "      <th>max</th>\n",
              "      <td>78030.000000</td>\n",
              "      <td>251024.000000</td>\n",
              "      <td>23744.000000</td>\n",
              "    </tr>\n",
              "  </tbody>\n",
              "</table>\n",
              "</div>"
            ],
            "text/plain": [
              "                fips          cases         deaths\n",
              "count  516515.000000  521534.000000  521534.000000\n",
              "mean    31112.210654     905.890617      35.717286\n",
              "std     16245.368054    5865.388093     400.523564\n",
              "min      1001.000000       0.000000       0.000000\n",
              "25%     18159.000000      13.000000       0.000000\n",
              "50%     29181.000000      69.000000       1.000000\n",
              "75%     46085.000000     334.000000       8.000000\n",
              "max     78030.000000  251024.000000   23744.000000"
            ]
          },
          "metadata": {
            "tags": []
          },
          "execution_count": 15
        }
      ]
    },
    {
      "cell_type": "code",
      "metadata": {
        "id": "H6f8SwsTPwxQ",
        "colab_type": "code",
        "colab": {
          "base_uri": "https://localhost:8080/",
          "height": 218
        },
        "outputId": "6de340a0-b5bd-43e5-e671-afe8730af531"
      },
      "source": [
        "covid1['county']"
      ],
      "execution_count": 16,
      "outputs": [
        {
          "output_type": "execute_result",
          "data": {
            "text/plain": [
              "0          Snohomish\n",
              "1          Snohomish\n",
              "2          Snohomish\n",
              "3               Cook\n",
              "4          Snohomish\n",
              "             ...    \n",
              "521529    Sweetwater\n",
              "521530         Teton\n",
              "521531         Uinta\n",
              "521532      Washakie\n",
              "521533        Weston\n",
              "Name: county, Length: 521534, dtype: object"
            ]
          },
          "metadata": {
            "tags": []
          },
          "execution_count": 16
        }
      ]
    },
    {
      "cell_type": "code",
      "metadata": {
        "id": "her8d-qHQk0f",
        "colab_type": "code",
        "colab": {
          "base_uri": "https://localhost:8080/",
          "height": 136
        },
        "outputId": "27aa76ac-9236-4d71-bf8c-8d4051ad6391"
      },
      "source": [
        "covid1[0:3]"
      ],
      "execution_count": null,
      "outputs": [
        {
          "output_type": "execute_result",
          "data": {
            "text/html": [
              "<div>\n",
              "<style scoped>\n",
              "    .dataframe tbody tr th:only-of-type {\n",
              "        vertical-align: middle;\n",
              "    }\n",
              "\n",
              "    .dataframe tbody tr th {\n",
              "        vertical-align: top;\n",
              "    }\n",
              "\n",
              "    .dataframe thead th {\n",
              "        text-align: right;\n",
              "    }\n",
              "</style>\n",
              "<table border=\"1\" class=\"dataframe\">\n",
              "  <thead>\n",
              "    <tr style=\"text-align: right;\">\n",
              "      <th></th>\n",
              "      <th>date</th>\n",
              "      <th>county</th>\n",
              "      <th>state</th>\n",
              "      <th>fips</th>\n",
              "      <th>cases</th>\n",
              "      <th>deaths</th>\n",
              "    </tr>\n",
              "  </thead>\n",
              "  <tbody>\n",
              "    <tr>\n",
              "      <th>0</th>\n",
              "      <td>2020-01-21</td>\n",
              "      <td>Snohomish</td>\n",
              "      <td>Washington</td>\n",
              "      <td>53061.0</td>\n",
              "      <td>1</td>\n",
              "      <td>0</td>\n",
              "    </tr>\n",
              "    <tr>\n",
              "      <th>1</th>\n",
              "      <td>2020-01-22</td>\n",
              "      <td>Snohomish</td>\n",
              "      <td>Washington</td>\n",
              "      <td>53061.0</td>\n",
              "      <td>1</td>\n",
              "      <td>0</td>\n",
              "    </tr>\n",
              "    <tr>\n",
              "      <th>2</th>\n",
              "      <td>2020-01-23</td>\n",
              "      <td>Snohomish</td>\n",
              "      <td>Washington</td>\n",
              "      <td>53061.0</td>\n",
              "      <td>1</td>\n",
              "      <td>0</td>\n",
              "    </tr>\n",
              "  </tbody>\n",
              "</table>\n",
              "</div>"
            ],
            "text/plain": [
              "         date     county       state     fips  cases  deaths\n",
              "0  2020-01-21  Snohomish  Washington  53061.0      1       0\n",
              "1  2020-01-22  Snohomish  Washington  53061.0      1       0\n",
              "2  2020-01-23  Snohomish  Washington  53061.0      1       0"
            ]
          },
          "metadata": {
            "tags": []
          },
          "execution_count": 13
        }
      ]
    },
    {
      "cell_type": "code",
      "metadata": {
        "id": "H0SXe0PlQ-Bg",
        "colab_type": "code",
        "colab": {
          "base_uri": "https://localhost:8080/",
          "height": 402
        },
        "outputId": "51d8d0a2-3e2c-40d6-eb48-5497de01035e"
      },
      "source": [
        "covid1.loc[:, ['county','fips']]"
      ],
      "execution_count": null,
      "outputs": [
        {
          "output_type": "execute_result",
          "data": {
            "text/html": [
              "<div>\n",
              "<style scoped>\n",
              "    .dataframe tbody tr th:only-of-type {\n",
              "        vertical-align: middle;\n",
              "    }\n",
              "\n",
              "    .dataframe tbody tr th {\n",
              "        vertical-align: top;\n",
              "    }\n",
              "\n",
              "    .dataframe thead th {\n",
              "        text-align: right;\n",
              "    }\n",
              "</style>\n",
              "<table border=\"1\" class=\"dataframe\">\n",
              "  <thead>\n",
              "    <tr style=\"text-align: right;\">\n",
              "      <th></th>\n",
              "      <th>county</th>\n",
              "      <th>fips</th>\n",
              "    </tr>\n",
              "  </thead>\n",
              "  <tbody>\n",
              "    <tr>\n",
              "      <th>0</th>\n",
              "      <td>Snohomish</td>\n",
              "      <td>53061.0</td>\n",
              "    </tr>\n",
              "    <tr>\n",
              "      <th>1</th>\n",
              "      <td>Snohomish</td>\n",
              "      <td>53061.0</td>\n",
              "    </tr>\n",
              "    <tr>\n",
              "      <th>2</th>\n",
              "      <td>Snohomish</td>\n",
              "      <td>53061.0</td>\n",
              "    </tr>\n",
              "    <tr>\n",
              "      <th>3</th>\n",
              "      <td>Cook</td>\n",
              "      <td>17031.0</td>\n",
              "    </tr>\n",
              "    <tr>\n",
              "      <th>4</th>\n",
              "      <td>Snohomish</td>\n",
              "      <td>53061.0</td>\n",
              "    </tr>\n",
              "    <tr>\n",
              "      <th>...</th>\n",
              "      <td>...</td>\n",
              "      <td>...</td>\n",
              "    </tr>\n",
              "    <tr>\n",
              "      <th>521529</th>\n",
              "      <td>Sweetwater</td>\n",
              "      <td>56037.0</td>\n",
              "    </tr>\n",
              "    <tr>\n",
              "      <th>521530</th>\n",
              "      <td>Teton</td>\n",
              "      <td>56039.0</td>\n",
              "    </tr>\n",
              "    <tr>\n",
              "      <th>521531</th>\n",
              "      <td>Uinta</td>\n",
              "      <td>56041.0</td>\n",
              "    </tr>\n",
              "    <tr>\n",
              "      <th>521532</th>\n",
              "      <td>Washakie</td>\n",
              "      <td>56043.0</td>\n",
              "    </tr>\n",
              "    <tr>\n",
              "      <th>521533</th>\n",
              "      <td>Weston</td>\n",
              "      <td>56045.0</td>\n",
              "    </tr>\n",
              "  </tbody>\n",
              "</table>\n",
              "<p>521534 rows × 2 columns</p>\n",
              "</div>"
            ],
            "text/plain": [
              "            county     fips\n",
              "0        Snohomish  53061.0\n",
              "1        Snohomish  53061.0\n",
              "2        Snohomish  53061.0\n",
              "3             Cook  17031.0\n",
              "4        Snohomish  53061.0\n",
              "...            ...      ...\n",
              "521529  Sweetwater  56037.0\n",
              "521530       Teton  56039.0\n",
              "521531       Uinta  56041.0\n",
              "521532    Washakie  56043.0\n",
              "521533      Weston  56045.0\n",
              "\n",
              "[521534 rows x 2 columns]"
            ]
          },
          "metadata": {
            "tags": []
          },
          "execution_count": 16
        }
      ]
    },
    {
      "cell_type": "code",
      "metadata": {
        "id": "OFnA9kLZSTXv",
        "colab_type": "code",
        "colab": {
          "base_uri": "https://localhost:8080/",
          "height": 134
        },
        "outputId": "4dc16e89-f20c-43f1-c492-146e238fe6e9"
      },
      "source": [
        "covid1.iloc[3]"
      ],
      "execution_count": null,
      "outputs": [
        {
          "output_type": "execute_result",
          "data": {
            "text/plain": [
              "date      2020-01-24\n",
              "county          Cook\n",
              "state       Illinois\n",
              "fips           17031\n",
              "cases              1\n",
              "deaths             0\n",
              "Name: 3, dtype: object"
            ]
          },
          "metadata": {
            "tags": []
          },
          "execution_count": 19
        }
      ]
    },
    {
      "cell_type": "code",
      "metadata": {
        "id": "bbkS3ND6UNnc",
        "colab_type": "code",
        "colab": {
          "base_uri": "https://localhost:8080/",
          "height": 402
        },
        "outputId": "a3323e24-84af-4ece-e362-321deb607c50"
      },
      "source": [
        "covid1[covid1['county']=='Bristol'] "
      ],
      "execution_count": 19,
      "outputs": [
        {
          "output_type": "execute_result",
          "data": {
            "text/html": [
              "<div>\n",
              "<style scoped>\n",
              "    .dataframe tbody tr th:only-of-type {\n",
              "        vertical-align: middle;\n",
              "    }\n",
              "\n",
              "    .dataframe tbody tr th {\n",
              "        vertical-align: top;\n",
              "    }\n",
              "\n",
              "    .dataframe thead th {\n",
              "        text-align: right;\n",
              "    }\n",
              "</style>\n",
              "<table border=\"1\" class=\"dataframe\">\n",
              "  <thead>\n",
              "    <tr style=\"text-align: right;\">\n",
              "      <th></th>\n",
              "      <th>date</th>\n",
              "      <th>county</th>\n",
              "      <th>state</th>\n",
              "      <th>fips</th>\n",
              "      <th>cases</th>\n",
              "      <th>deaths</th>\n",
              "    </tr>\n",
              "  </thead>\n",
              "  <tbody>\n",
              "    <tr>\n",
              "      <th>2093</th>\n",
              "      <td>2020-03-14</td>\n",
              "      <td>Bristol</td>\n",
              "      <td>Massachusetts</td>\n",
              "      <td>25005.0</td>\n",
              "      <td>1</td>\n",
              "      <td>0</td>\n",
              "    </tr>\n",
              "    <tr>\n",
              "      <th>2494</th>\n",
              "      <td>2020-03-15</td>\n",
              "      <td>Bristol</td>\n",
              "      <td>Massachusetts</td>\n",
              "      <td>25005.0</td>\n",
              "      <td>1</td>\n",
              "      <td>0</td>\n",
              "    </tr>\n",
              "    <tr>\n",
              "      <th>2943</th>\n",
              "      <td>2020-03-16</td>\n",
              "      <td>Bristol</td>\n",
              "      <td>Massachusetts</td>\n",
              "      <td>25005.0</td>\n",
              "      <td>2</td>\n",
              "      <td>0</td>\n",
              "    </tr>\n",
              "    <tr>\n",
              "      <th>3444</th>\n",
              "      <td>2020-03-17</td>\n",
              "      <td>Bristol</td>\n",
              "      <td>Massachusetts</td>\n",
              "      <td>25005.0</td>\n",
              "      <td>5</td>\n",
              "      <td>0</td>\n",
              "    </tr>\n",
              "    <tr>\n",
              "      <th>4026</th>\n",
              "      <td>2020-03-18</td>\n",
              "      <td>Bristol</td>\n",
              "      <td>Massachusetts</td>\n",
              "      <td>25005.0</td>\n",
              "      <td>5</td>\n",
              "      <td>0</td>\n",
              "    </tr>\n",
              "    <tr>\n",
              "      <th>...</th>\n",
              "      <td>...</td>\n",
              "      <td>...</td>\n",
              "      <td>...</td>\n",
              "      <td>...</td>\n",
              "      <td>...</td>\n",
              "      <td>...</td>\n",
              "    </tr>\n",
              "    <tr>\n",
              "      <th>514226</th>\n",
              "      <td>2020-09-08</td>\n",
              "      <td>Bristol</td>\n",
              "      <td>Rhode Island</td>\n",
              "      <td>44001.0</td>\n",
              "      <td>358</td>\n",
              "      <td>16</td>\n",
              "    </tr>\n",
              "    <tr>\n",
              "      <th>516288</th>\n",
              "      <td>2020-09-09</td>\n",
              "      <td>Bristol</td>\n",
              "      <td>Massachusetts</td>\n",
              "      <td>25005.0</td>\n",
              "      <td>9418</td>\n",
              "      <td>668</td>\n",
              "    </tr>\n",
              "    <tr>\n",
              "      <th>517461</th>\n",
              "      <td>2020-09-09</td>\n",
              "      <td>Bristol</td>\n",
              "      <td>Rhode Island</td>\n",
              "      <td>44001.0</td>\n",
              "      <td>369</td>\n",
              "      <td>16</td>\n",
              "    </tr>\n",
              "    <tr>\n",
              "      <th>519523</th>\n",
              "      <td>2020-09-10</td>\n",
              "      <td>Bristol</td>\n",
              "      <td>Massachusetts</td>\n",
              "      <td>25005.0</td>\n",
              "      <td>9448</td>\n",
              "      <td>670</td>\n",
              "    </tr>\n",
              "    <tr>\n",
              "      <th>520697</th>\n",
              "      <td>2020-09-10</td>\n",
              "      <td>Bristol</td>\n",
              "      <td>Rhode Island</td>\n",
              "      <td>44001.0</td>\n",
              "      <td>369</td>\n",
              "      <td>16</td>\n",
              "    </tr>\n",
              "  </tbody>\n",
              "</table>\n",
              "<p>351 rows × 6 columns</p>\n",
              "</div>"
            ],
            "text/plain": [
              "              date   county          state     fips  cases  deaths\n",
              "2093    2020-03-14  Bristol  Massachusetts  25005.0      1       0\n",
              "2494    2020-03-15  Bristol  Massachusetts  25005.0      1       0\n",
              "2943    2020-03-16  Bristol  Massachusetts  25005.0      2       0\n",
              "3444    2020-03-17  Bristol  Massachusetts  25005.0      5       0\n",
              "4026    2020-03-18  Bristol  Massachusetts  25005.0      5       0\n",
              "...            ...      ...            ...      ...    ...     ...\n",
              "514226  2020-09-08  Bristol   Rhode Island  44001.0    358      16\n",
              "516288  2020-09-09  Bristol  Massachusetts  25005.0   9418     668\n",
              "517461  2020-09-09  Bristol   Rhode Island  44001.0    369      16\n",
              "519523  2020-09-10  Bristol  Massachusetts  25005.0   9448     670\n",
              "520697  2020-09-10  Bristol   Rhode Island  44001.0    369      16\n",
              "\n",
              "[351 rows x 6 columns]"
            ]
          },
          "metadata": {
            "tags": []
          },
          "execution_count": 19
        }
      ]
    },
    {
      "cell_type": "code",
      "metadata": {
        "id": "AzSMmozWU_jP",
        "colab_type": "code",
        "colab": {}
      },
      "source": [
        "def get_county(covid1,fips):\n",
        "  result= covid1(covid1['fips'] == fips)[['date','county','state', 'cases','deaths']].copy()\n",
        "  result.set_index ('date',inplace=True)\n",
        "  result.index = pd.to_datetime(result.index)\n",
        "  return result\n",
        "  get_county (covid1,'B_f').head()"
      ],
      "execution_count": 25,
      "outputs": []
    }
  ]
}